{
 "cells": [
  {
   "cell_type": "code",
   "execution_count": null,
   "id": "2fcc8d44-9336-472d-9073-83658a8a4188",
   "metadata": {},
   "outputs": [],
   "source": [
    "import pandas as pd\n",
    "import matplotlib.pyplot as plt\n",
    "import numpy as np\n",
    "import tensorflow as tf\n",
    "from tensorflow import keras\n",
    "import seaborn as sns\n",
    "import os\n",
    "from datetime import datetime\n",
    "\n",
    "import warnings\n",
    "warnings.filterwarnings(\"ignore\")\n"
   ]
  },
  {
   "cell_type": "code",
   "execution_count": null,
   "id": "988a64f7-c6ed-46d1-996b-8d3c47526254",
   "metadata": {},
   "outputs": [],
   "source": [
    "data = pd.read_csv('all_stocks_5yr.csv', delimiter=',', on_bad_lines='skip') \n",
    "print(data.shape)\n",
    "print(data.sample(7))\n",
    "\n",
    "# This code is modified by Susobhan Akhuli\n"
   ]
  },
  {
   "cell_type": "code",
   "execution_count": null,
   "id": "568c2b2a-d357-4bd1-b4bf-9362d7a57fbe",
   "metadata": {},
   "outputs": [],
   "source": [
    "data.info()"
   ]
  },
  {
   "cell_type": "code",
   "execution_count": null,
   "id": "a86315ba-e521-43f8-8511-aad6226ad52b",
   "metadata": {},
   "outputs": [],
   "source": [
    "data['date'] = pd.to_datetime(data['date'])\n",
    "data.info()"
   ]
  },
  {
   "cell_type": "code",
   "execution_count": null,
   "id": "0f1eb194-5846-4af0-94f1-ad4995f3ac26",
   "metadata": {},
   "outputs": [],
   "source": [
    "data['date'] = pd.to_datetime(data['date']) \n",
    "# date vs open \n",
    "# date vs close\n",
    "\n",
    "# Define the list of companies you want to plot\n",
    "companies = ['AAPL', 'AMD', 'FB', 'GOOGL', 'AMZN', 'NVDA', 'EBAY', 'CSCO', 'IBM']\n",
    "\n",
    "plt.figure(figsize=(15, 8)) \n",
    "for index, company in enumerate(companies, 1):\n",
    "    plt.subplot(3, 3, index) \n",
    "    c = data[data['Name'] == company] \n",
    "    plt.plot(c['date'], c['close'], c=\"r\", label=\"close\", marker=\"+\") \n",
    "    plt.plot(c['date'], c['open'], c=\"g\", label=\"open\", marker=\"^\") \n",
    "    plt.title(company) \n",
    "    plt.legend() \n",
    "    plt.tight_layout()\n",
    "    \n",
    "# This code is modified by Susobhan Akhuli"
   ]
  },
  {
   "cell_type": "code",
   "execution_count": null,
   "id": "b7b502e9-df0f-4a92-92e3-47b25c4e9bd9",
   "metadata": {},
   "outputs": [],
   "source": [
    "plt.figure(figsize=(15, 8))\n",
    "for index, company in enumerate(companies, 1):\n",
    "    plt.subplot(3, 3, index)\n",
    "    c = data[data['Name'] == company]\n",
    "    plt.plot(c['date'], c['volume'], c='purple', marker='*')\n",
    "    plt.title(f\"{company} Volume\")\n",
    "    plt.tight_layout()"
   ]
  },
  {
   "cell_type": "code",
   "execution_count": null,
   "id": "0b4f704c-214d-4c3f-9827-764525ce34f2",
   "metadata": {},
   "outputs": [],
   "source": [
    "apple = data[data['Name'] == 'AAPL']\n",
    "prediction_range = apple.loc[(apple['date'] > datetime(2013,1,1))\n",
    " & (apple['date']<datetime(2018,1,1))]\n",
    "plt.plot(apple['date'],apple['close'])\n",
    "plt.xlabel(\"Date\")\n",
    "plt.ylabel(\"Close\")\n",
    "plt.title(\"Apple Stock Prices\")\n",
    "plt.show()\n"
   ]
  },
  {
   "cell_type": "code",
   "execution_count": null,
   "id": "258a73c3-a12c-4f37-b2fd-81509ccf4d5c",
   "metadata": {},
   "outputs": [],
   "source": [
    "close_data = apple.filter(['close'])\n",
    "dataset = close_data.values\n",
    "training = int(np.ceil(len(dataset) * .95))\n",
    "print(training)"
   ]
  },
  {
   "cell_type": "code",
   "execution_count": null,
   "id": "89cb8f46-802b-48f5-b459-f6a3789ca0a0",
   "metadata": {},
   "outputs": [],
   "source": [
    "from sklearn.preprocessing import MinMaxScaler\n",
    "\n",
    "scaler = MinMaxScaler(feature_range=(0, 1))\n",
    "scaled_data = scaler.fit_transform(dataset)\n",
    "\n",
    "train_data = scaled_data[0:int(training), :]\n",
    "# prepare feature and labels\n",
    "x_train = []\n",
    "y_train = []\n",
    "\n",
    "for i in range(60, len(train_data)):\n",
    "    x_train.append(train_data[i-60:i, 0])\n",
    "    y_train.append(train_data[i, 0])\n",
    "\n",
    "x_train, y_train = np.array(x_train), np.array(y_train)\n",
    "x_train = np.reshape(x_train, (x_train.shape[0], x_train.shape[1], 1))"
   ]
  },
  {
   "cell_type": "code",
   "execution_count": null,
   "id": "c70ba935-4363-4f36-b290-0cd9d836734b",
   "metadata": {},
   "outputs": [],
   "source": [
    "model = keras.models.Sequential()\n",
    "model.add(kera.layers.LSTM(units=64,\n",
    "                            return_sequences=True,\n",
    "                            input_shape=(x_train.shape[1], 1)))\n",
    "model.add(keras.layers.LSTM(units=64))\n",
    "model.add(keras.layers.Dense(32))\n",
    "model.add(keras.layers.Dropout(0.5))\n",
    "model.add(keras.layers.Dense(1))\n",
    "model.summary"
   ]
  },
  {
   "cell_type": "code",
   "execution_count": null,
   "id": "3a5ae7ca-2d1f-4b61-a35e-c714d18f6447",
   "metadata": {},
   "outputs": [],
   "source": [
    "model.compile(optimizer='adam',\n",
    "              loss='mean_squared_error')\n",
    "history = model.fit(x_train,\n",
    "                    y_train,\n",
    "                    epochs=10)"
   ]
  },
  {
   "cell_type": "code",
   "execution_count": null,
   "id": "6ae52e3f-d905-4fc6-95cf-3ff109921b6a",
   "metadata": {},
   "outputs": [],
   "source": [
    "test_data = scaled_data[training - 60:, :]\n",
    "x_test = []\n",
    "y_test = dataset[training:, :]\n",
    "for i in range(60, len(test_data)):\n",
    "    x_test.append(test_data[i-60:i, 0])\n",
    "\n",
    "x_test = np.array(x_test)\n",
    "x_test = np.reshape(x_test, (x_test.shape[0], x_test.shape[1], 1))\n",
    "\n",
    "# predict the testing data\n",
    "predictions = model.predict(x_test)\n",
    "predictions = scaler.inverse_transform(predictions)\n",
    "\n",
    "# evaluation metrics\n",
    "mse = np.mean(((predictions - y_test) ** 2))\n",
    "print(\"MSE\", mse)\n",
    "print(\"RMSE\", np.sqrt(mse))"
   ]
  },
  {
   "cell_type": "code",
   "execution_count": null,
   "id": "c03e10b6-79ff-42fc-b675-5c26014fe0b2",
   "metadata": {},
   "outputs": [],
   "source": [
    "train = apple[:training]\n",
    "test = apple[training:]\n",
    "test['Predictions'] = predictions\n",
    "\n",
    "plt.figure(figsize=(10, 8))\n",
    "plt.plot(train['date'], train['close'])\n",
    "plt.plot(test['date'], test[['close', 'Predictions']])\n",
    "plt.title('Apple Stock Close Price')\n",
    "plt.xlabel('Date')\n",
    "plt.ylabel(\"Close\")\n",
    "plt.legend(['Train', 'Test', 'Predictions'])"
   ]
  },
  {
   "cell_type": "code",
   "execution_count": null,
   "id": "5ccb9308-807e-4140-bd58-3914332dd8d9",
   "metadata": {},
   "outputs": [],
   "source": []
  }
 ],
 "metadata": {
  "kernelspec": {
   "display_name": "Python 3 (ipykernel)",
   "language": "python",
   "name": "python3"
  },
  "language_info": {
   "codemirror_mode": {
    "name": "ipython",
    "version": 3
   },
   "file_extension": ".py",
   "mimetype": "text/x-python",
   "name": "python",
   "nbconvert_exporter": "python",
   "pygments_lexer": "ipython3",
   "version": "3.12.4"
  }
 },
 "nbformat": 4,
 "nbformat_minor": 5
}
